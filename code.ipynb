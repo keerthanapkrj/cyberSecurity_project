{
 "cells": [
  {
   "cell_type": "code",
   "execution_count": 1,
   "metadata": {},
   "outputs": [
    {
     "name": "stdout",
     "output_type": "stream",
     "text": [
      "Note: you may need to restart the kernel to use updated packages.\n"
     ]
    },
    {
     "name": "stderr",
     "output_type": "stream",
     "text": [
      "ERROR: Could not find a version that satisfies the requirement pandas (from versions: none)\n",
      "ERROR: No matching distribution found for pandas\n",
      "\n",
      "[notice] A new release of pip is available: 24.0 -> 24.2\n",
      "[notice] To update, run: python.exe -m pip install --upgrade pip\n"
     ]
    }
   ],
   "source": [
    "pip install pandas numpy"
   ]
  },
  {
   "cell_type": "code",
   "execution_count": 7,
   "metadata": {},
   "outputs": [
    {
     "name": "stdout",
     "output_type": "stream",
     "text": [
      "Requirement already satisfied: pip in c:\\users\\unico\\appdata\\local\\programs\\python\\python312\\lib\\site-packages (24.0)\n",
      "Collecting pip\n",
      "  Downloading pip-24.2-py3-none-any.whl.metadata (3.6 kB)\n",
      "Downloading pip-24.2-py3-none-any.whl (1.8 MB)\n",
      "   ---------------------------------------- 0.0/1.8 MB ? eta -:--:--\n",
      "   ---------------------------------------- 0.0/1.8 MB ? eta -:--:--\n",
      "    --------------------------------------- 0.0/1.8 MB 660.6 kB/s eta 0:00:03\n",
      "   - -------------------------------------- 0.1/1.8 MB 544.7 kB/s eta 0:00:04\n",
      "   --- ------------------------------------ 0.2/1.8 MB 1.1 MB/s eta 0:00:02\n",
      "   ------ --------------------------------- 0.3/1.8 MB 1.7 MB/s eta 0:00:01\n",
      "   ---------- ----------------------------- 0.5/1.8 MB 2.2 MB/s eta 0:00:01\n",
      "   ------------- -------------------------- 0.6/1.8 MB 2.3 MB/s eta 0:00:01\n",
      "   ----------------- ---------------------- 0.8/1.8 MB 2.6 MB/s eta 0:00:01\n",
      "   --------------------- ------------------ 1.0/1.8 MB 2.7 MB/s eta 0:00:01\n",
      "   ------------------------ --------------- 1.1/1.8 MB 2.8 MB/s eta 0:00:01\n",
      "   ---------------------------- ----------- 1.3/1.8 MB 2.9 MB/s eta 0:00:01\n",
      "   ------------------------------- -------- 1.4/1.8 MB 3.0 MB/s eta 0:00:01\n",
      "   ----------------------------------- ---- 1.6/1.8 MB 3.1 MB/s eta 0:00:01\n",
      "   -------------------------------------- - 1.7/1.8 MB 3.1 MB/s eta 0:00:01\n",
      "   ---------------------------------------- 1.8/1.8 MB 3.0 MB/s eta 0:00:00\n",
      "Installing collected packages: pip\n",
      "  Attempting uninstall: pip\n",
      "    Found existing installation: pip 24.0\n",
      "    Uninstalling pip-24.0:\n",
      "      Successfully uninstalled pip-24.0\n",
      "Successfully installed pip-24.2\n",
      "Note: you may need to restart the kernel to use updated packages.\n"
     ]
    },
    {
     "name": "stderr",
     "output_type": "stream",
     "text": [
      "  WARNING: The scripts pip.exe, pip3.12.exe and pip3.exe are installed in 'c:\\Users\\unico\\AppData\\Local\\Programs\\Python\\Python312\\Scripts' which is not on PATH.\n",
      "  Consider adding this directory to PATH or, if you prefer to suppress this warning, use --no-warn-script-location.\n"
     ]
    }
   ],
   "source": [
    "pip install --upgrade pip"
   ]
  },
  {
   "cell_type": "code",
   "execution_count": 8,
   "metadata": {},
   "outputs": [
    {
     "ename": "SyntaxError",
     "evalue": "(unicode error) 'unicodeescape' codec can't decode bytes in position 2-3: truncated \\UXXXXXXXX escape (1894434570.py, line 57)",
     "output_type": "error",
     "traceback": [
      "\u001b[1;36m  Cell \u001b[1;32mIn[8], line 57\u001b[1;36m\u001b[0m\n\u001b[1;33m    session_1_path = 'C:\\Users\\unico\\Desktop\\amrita EAC sem 7\\cs\\Project\\dataset\\Virinchi_Session_1_dup.csv'\u001b[0m\n\u001b[1;37m                     ^\u001b[0m\n\u001b[1;31mSyntaxError\u001b[0m\u001b[1;31m:\u001b[0m (unicode error) 'unicodeescape' codec can't decode bytes in position 2-3: truncated \\UXXXXXXXX escape\n"
     ]
    }
   ],
   "source": [
    "import pandas as pd\n",
    "import numpy as np\n",
    "\n",
    "def load_data(file_path):\n",
    "    \"\"\"Load keylogging data from a CSV file.\"\"\"\n",
    "    data = pd.read_csv(file_path)\n",
    "    return data\n",
    "\n",
    "def extract_mouse_features(data):\n",
    "    \"\"\"Extract features from mouse movements.\"\"\"\n",
    "    # Filter mouse move events\n",
    "    mouse_moves = data[data['Event'] == 'MouseMove']\n",
    "    \n",
    "    # Extract mouse coordinates from 'Key/Mouse' column\n",
    "    mouse_moves['X'] = mouse_moves['Key/Mouse'].apply(lambda x: int(x.split('(')[1].split(',')[0]))\n",
    "    mouse_moves['Y'] = mouse_moves['Key/Mouse'].apply(lambda x: int(x.split(',')[1].split(')')[0]))\n",
    "    \n",
    "    # Calculate distance between consecutive points\n",
    "    mouse_moves['dX'] = mouse_moves['X'].diff().fillna(0)\n",
    "    mouse_moves['dY'] = mouse_moves['Y'].diff().fillna(0)\n",
    "    mouse_moves['distance'] = np.sqrt(mouse_moves['dX']**2 + mouse_moves['dY']**2)\n",
    "    \n",
    "    # Calculate time difference between consecutive points\n",
    "    mouse_moves['time_diff'] = mouse_moves['Timestamp'].diff().fillna(0)\n",
    "    \n",
    "    # Calculate speed (distance/time)\n",
    "    mouse_moves['speed'] = mouse_moves['distance'] / mouse_moves['time_diff']\n",
    "    mouse_moves['speed'].replace([np.inf, -np.inf], 0, inplace=True)  # Replace inf values with 0\n",
    "\n",
    "    return mouse_moves[['distance', 'speed', 'time_diff']]\n",
    "\n",
    "def extract_key_features(data):\n",
    "    \"\"\"Extract features from key events.\"\"\"\n",
    "    key_events = data[data['Event'] == 'KeyDown']\n",
    "    \n",
    "    # Calculate time between consecutive key presses\n",
    "    key_events['time_diff'] = key_events['Timestamp'].diff().fillna(0)\n",
    "    \n",
    "    # Calculate frequency of each key pressed\n",
    "    key_frequency = key_events['Key/Mouse'].value_counts().reset_index()\n",
    "    key_frequency.columns = ['Key', 'Frequency']\n",
    "    \n",
    "    return key_events[['Key/Mouse', 'time_diff']], key_frequency\n",
    "\n",
    "def prepare_features(session_1_data, session_2_data):\n",
    "    \"\"\"Prepare features from both sessions.\"\"\"\n",
    "    # Extract mouse and key features for both sessions\n",
    "    mouse_features_1 = extract_mouse_features(session_1_data)\n",
    "    key_features_1, key_frequency_1 = extract_key_features(session_1_data)\n",
    "    \n",
    "    mouse_features_2 = extract_mouse_features(session_2_data)\n",
    "    key_features_2, key_frequency_2 = extract_key_features(session_2_data)\n",
    "\n",
    "    return mouse_features_1, key_features_1, key_frequency_1, mouse_features_2, key_features_2, key_frequency_2\n",
    "\n",
    "# Example usage:\n",
    "session_1_path = 'C:\\Users\\unico\\Desktop\\amrita EAC sem 7\\cs\\Project\\dataset\\Virinchi_Session_1_dup.csv'\n",
    "session_2_path = 'C:\\Users\\unico\\Desktop\\amrita EAC sem 7\\cs\\Project\\dataset\\Virinchi_Session_1.csv'\n",
    "\n",
    "# Load data\n",
    "session_1_data = load_data(session_1_path)\n",
    "session_2_data = load_data(session_2_path)\n",
    "\n",
    "# Prepare features\n",
    "mouse_features_1, key_features_1, key_frequency_1, mouse_features_2, key_features_2, key_frequency_2 = prepare_features(session_1_data, session_2_data)\n",
    "\n",
    "print(\"Mouse features from Session 1:\\n\", mouse_features_1.head())\n",
    "print(\"Key features from Session 1:\\n\", key_features_1.head())\n",
    "print(\"Key frequency from Session 1:\\n\", key_frequency_1.head())\n"
   ]
  }
 ],
 "metadata": {
  "kernelspec": {
   "display_name": "Python 3",
   "language": "python",
   "name": "python3"
  },
  "language_info": {
   "codemirror_mode": {
    "name": "ipython",
    "version": 3
   },
   "file_extension": ".py",
   "mimetype": "text/x-python",
   "name": "python",
   "nbconvert_exporter": "python",
   "pygments_lexer": "ipython3",
   "version": "3.12.0"
  }
 },
 "nbformat": 4,
 "nbformat_minor": 2
}
